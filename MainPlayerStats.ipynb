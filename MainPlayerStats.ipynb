{
 "cells": [
  {
   "cell_type": "code",
   "execution_count": 1,
   "metadata": {},
   "outputs": [],
   "source": [
    "import requests\n",
    "from bs4 import BeautifulSoup\n",
    "import pandas as pd\n",
    "import psycopg2 "
   ]
  },
  {
   "cell_type": "code",
   "execution_count": 2,
   "metadata": {},
   "outputs": [],
   "source": [
    "url = 'https://www.pro-football-reference.com'"
   ]
  },
  {
   "cell_type": "code",
   "execution_count": 3,
   "metadata": {
    "scrolled": true
   },
   "outputs": [
    {
     "name": "stdout",
     "output_type": "stream",
     "text": [
      "0 10 20 30 40 50 60 70 80 90 100 110 120 130 140 150 160 170 180 190 200 210 220 230 240 250 260 270 280 290 300 310 320 330 340 350 360 370 380 390 400 410 420 430 440 450 460 470 480 490 500 \n",
      "Complete.\n",
      "0 10 20 30 40 50 60 70 80 90 100 110 120 130 140 150 160 170 180 190 200 210 220 230 240 250 260 270 280 290 300 310 320 330 340 350 360 370 380 390 400 410 420 430 440 450 460 470 480 490 500 \n",
      "Complete.\n",
      "0 10 20 30 40 50 60 70 80 90 100 110 120 130 140 150 160 170 180 190 200 210 220 230 240 250 260 270 280 290 300 310 320 330 340 350 360 370 380 390 400 410 420 430 440 450 460 470 480 490 500 \n",
      "Complete.\n",
      "0 10 20 30 40 50 60 70 80 90 100 110 120 130 140 150 160 170 180 190 200 210 220 230 240 250 260 270 280 290 300 310 320 330 340 350 360 370 380 390 400 410 420 430 440 450 460 470 480 490 500 \n",
      "Complete.\n"
     ]
    }
   ],
   "source": [
    "url = 'https://www.pro-football-reference.com'\n",
    "years1 = [2009, 2010, 2011, 2012]\n",
    "data1 = []\n",
    "for year in years1: \n",
    "    r = requests.get(url + '/years/' + str(year) + '/fantasy.htm')\n",
    "    soup = BeautifulSoup(r.content, 'html.parser')\n",
    "    parsed_table = soup.find_all('table')[0] \n",
    "    maxp = 500\n",
    "    \n",
    "# first 2 rows are col headers\n",
    "    for i,row in enumerate(parsed_table.find_all('tr')[2:]):\n",
    "        if i % 10 == 0: print(i, end=' ')\n",
    "        if i >= maxp: \n",
    "            print('\\nComplete.')\n",
    "            break\n",
    "\n",
    "        try:\n",
    "            dat = row.find('td', attrs={'data-stat': 'player'})\n",
    "            name = dat.a.get_text()\n",
    "            stub = dat.a.get('href')\n",
    "            stub = stub[:-4] + '/gamelog/' + str(year)\n",
    "            #get stub for player's career gamelog\n",
    "            stub2 = stub[:-4] + '/gamelog/'\n",
    "            tdf_temp = pd.read_html(url+stub2)[0]\n",
    "            #player's first year in league\n",
    "            first_year_playing = int(tdf_temp.iloc[0,0][:4])\n",
    "            pos = row.find('td', attrs={'data-stat': 'fantasy_pos'}).get_text()\n",
    "            # grab this players stats\n",
    "           \n",
    "            tdf = pd.read_html(url + stub)[0]\n",
    "            tdf = tdf[:-1]\n",
    "            tdf['Name'] = name\n",
    "            tdf['Position'] = pos\n",
    "            tdf['Season'] = year\n",
    "            tdf['PlayerYear'] = tdf['Season'].subtract(first_year_playing - 1)\n",
    "            data1.append(tdf)\n",
    "        except:\n",
    "            pass\n"
   ]
  },
  {
   "cell_type": "code",
   "execution_count": 4,
   "metadata": {},
   "outputs": [],
   "source": [
    "main_player_columns = [('Name', ''), ('Unnamed: 5_level_0', 'Tm'), ('Season', ''), ('Unnamed: 3_level_0', 'Week'), \n",
    "                      ('Passing', 'Yds'), ('Passing', 'TD'), ('Rushing', 'Yds'), ('Rushing', 'TD'), \n",
    "                      ('Receiving', 'Yds'), ('Receiving', 'TD'), ('Scoring', '2PM'), ('Unnamed: 7_level_0', 'Opp'), \n",
    "                      ('Position', ''), ('Fumbles', 'FL'), ('Passing', 'Int'), ('PlayerYear',  '')]\n",
    "\n",
    "for i in data1: \n",
    "    for k in main_player_columns: \n",
    "        if k not in i.columns: \n",
    "            i[k] = 0"
   ]
  },
  {
   "cell_type": "code",
   "execution_count": 5,
   "metadata": {},
   "outputs": [],
   "source": [
    "final_df = pd.DataFrame()\n",
    "for a in data1: \n",
    "    df_new = pd.DataFrame()\n",
    "    for element in main_player_columns: \n",
    "        if element not in a.columns: \n",
    "                a[element] = 0\n",
    "    df_new = a[[(              'Name',                   ''),\n",
    "               ('Unnamed: 5_level_0',                 'Tm'),\n",
    "               (            'Season',                   ''),\n",
    "               ('Unnamed: 3_level_0',               'Week'), \n",
    "               (           'Passing',                'Yds'),\n",
    "               (           'Passing',                 'TD'), \n",
    "               (           'Rushing',                'Yds'), \n",
    "               (           'Rushing',                 'TD'), \n",
    "               (         'Receiving',                'Yds'), \n",
    "               (         'Receiving',                 'TD'), \n",
    "               (           'Scoring',                '2PM'), \n",
    "               ('Unnamed: 7_level_0',                'Opp'), \n",
    "               (          'Position',                   ''),\n",
    "               (           'Fumbles',                 'FL'), \n",
    "               (           'Passing',                'Int'),\n",
    "               (        'PlayerYear',                   '')\n",
    "               ]]\n",
    "    if final_df.empty: \n",
    "        final_df = df_new\n",
    "    else: \n",
    "        final_df = pd.concat([final_df, df_new])\n",
    "final_df.fillna(0, inplace=True)\n",
    "final_df.to_csv('main_players1.csv', index=False)"
   ]
  },
  {
   "cell_type": "code",
   "execution_count": 6,
   "metadata": {},
   "outputs": [
    {
     "name": "stdout",
     "output_type": "stream",
     "text": [
      "0 10 20 30 40 50 60 70 80 90 100 110 120 130 140 150 160 170 180 190 200 210 220 230 240 250 260 270 280 290 300 310 320 330 340 350 360 370 380 390 400 410 420 430 440 450 460 470 480 490 500 \n",
      "Complete.\n",
      "0 10 20 30 40 50 60 70 80 90 100 110 120 130 140 150 160 170 180 190 200 210 220 230 240 250 260 270 280 290 300 310 320 330 340 350 360 370 380 390 400 410 420 430 440 450 460 470 480 490 500 \n",
      "Complete.\n",
      "0 10 20 30 40 50 60 70 80 90 100 110 120 130 140 150 160 170 180 190 200 210 220 230 240 250 260 270 280 290 300 310 320 330 340 350 360 370 380 390 400 410 420 430 440 450 460 470 480 490 500 \n",
      "Complete.\n",
      "0 10 20 30 40 50 60 70 80 90 100 110 120 130 140 150 160 170 180 190 200 210 220 230 240 250 260 270 280 290 300 310 320 330 340 350 360 370 380 390 400 410 420 430 440 450 460 470 480 490 500 \n",
      "Complete.\n"
     ]
    }
   ],
   "source": [
    "years2 = [2013, 2014, 2015, 2016]\n",
    "data2 = []\n",
    "for year in years2: \n",
    "    r = requests.get(url + '/years/' + str(year) + '/fantasy.htm')\n",
    "    soup = BeautifulSoup(r.content, 'html.parser')\n",
    "    parsed_table = soup.find_all('table')[0] \n",
    "    maxp = 500\n",
    "    \n",
    "# first 2 rows are col headers\n",
    "    for i,row in enumerate(parsed_table.find_all('tr')[2:]):\n",
    "        if i % 10 == 0: print(i, end=' ')\n",
    "        if i >= maxp: \n",
    "            print('\\nComplete.')\n",
    "            break\n",
    "\n",
    "        try:\n",
    "            dat = row.find('td', attrs={'data-stat': 'player'})\n",
    "            name = dat.a.get_text()\n",
    "            stub = dat.a.get('href')\n",
    "            stub = stub[:-4] + '/gamelog/' + str(year)\n",
    "            #get stub for player's career gamelog\n",
    "            stub2 = stub[:-4] + '/gamelog/'\n",
    "            tdf_temp = pd.read_html(url+stub2)[0]\n",
    "            #player's first year in league\n",
    "            first_year_playing = int(tdf_temp.iloc[0,0][:4])\n",
    "            pos = row.find('td', attrs={'data-stat': 'fantasy_pos'}).get_text()\n",
    "            # grab this players stats\n",
    "           \n",
    "            tdf = pd.read_html(url + stub)[0]\n",
    "            tdf = tdf[:-1]\n",
    "            tdf['Name'] = name\n",
    "            tdf['Position'] = pos\n",
    "            tdf['Season'] = year\n",
    "            tdf['PlayerYear'] = tdf['Season'].subtract(first_year_playing - 1)\n",
    "            data2.append(tdf)\n",
    "        except:\n",
    "            pass"
   ]
  },
  {
   "cell_type": "code",
   "execution_count": 7,
   "metadata": {},
   "outputs": [],
   "source": [
    "main_player_columns = [('Name', ''), ('Unnamed: 5_level_0', 'Tm'), ('Season', ''), ('Unnamed: 3_level_0', 'Week'), \n",
    "                      ('Passing', 'Yds'), ('Passing', 'TD'), ('Rushing', 'Yds'), ('Rushing', 'TD'), \n",
    "                      ('Receiving', 'Yds'), ('Receiving', 'TD'), ('Scoring', '2PM'), ('Unnamed: 7_level_0', 'Opp'), \n",
    "                      ('Position', ''), ('Fumbles', 'FL'), ('Passing', 'Int'), ('PlayerYear',  '')]\n",
    "\n",
    "for i in data1[500:]: \n",
    "    for k in main_player_columns: \n",
    "        if k not in i.columns: \n",
    "            i[k] = 0"
   ]
  },
  {
   "cell_type": "code",
   "execution_count": 8,
   "metadata": {},
   "outputs": [
    {
     "name": "stderr",
     "output_type": "stream",
     "text": [
      "IOPub data rate exceeded.\n",
      "The notebook server will temporarily stop sending output\n",
      "to the client in order to avoid crashing it.\n",
      "To change this limit, set the config variable\n",
      "`--NotebookApp.iopub_data_rate_limit`.\n",
      "\n",
      "Current values:\n",
      "NotebookApp.iopub_data_rate_limit=1000000.0 (bytes/sec)\n",
      "NotebookApp.rate_limit_window=3.0 (secs)\n",
      "\n"
     ]
    }
   ],
   "source": [
    "for a in data"
   ]
  },
  {
   "cell_type": "code",
   "execution_count": 13,
   "metadata": {},
   "outputs": [],
   "source": [
    "final_df2 = pd.DataFrame()\n",
    "for a in data2: \n",
    "    df_new = pd.DataFrame()\n",
    "    for element in main_player_columns: \n",
    "        if element not in a.columns: \n",
    "                a[element] = 0\n",
    "    df_new = a[[(              'Name',                   ''),\n",
    "               ('Unnamed: 5_level_0',                 'Tm'),\n",
    "               (            'Season',                   ''),\n",
    "               ('Unnamed: 3_level_0',               'Week'), \n",
    "               (           'Passing',                'Yds'),\n",
    "               (           'Passing',                 'TD'), \n",
    "               (           'Rushing',                'Yds'), \n",
    "               (           'Rushing',                 'TD'), \n",
    "               (         'Receiving',                'Yds'), \n",
    "               (         'Receiving',                 'TD'), \n",
    "               (           'Scoring',                '2PM'), \n",
    "               ('Unnamed: 7_level_0',                'Opp'), \n",
    "               (          'Position',                   ''),\n",
    "               (           'Fumbles',                 'FL'), \n",
    "               (           'Passing',                'Int'),\n",
    "               (        'PlayerYear',                   '')\n",
    "               ]]\n",
    "    if final_df2.empty: \n",
    "        final_df2 = df_new\n",
    "    else: \n",
    "        final_df2 = pd.concat([final_df2, df_new])\n",
    "final_df2.to_csv('main_players2.csv', index=False)"
   ]
  },
  {
   "cell_type": "code",
   "execution_count": 10,
   "metadata": {},
   "outputs": [
    {
     "name": "stdout",
     "output_type": "stream",
     "text": [
      "0 10 20 30 40 50 60 70 80 90 100 110 120 130 140 150 160 170 180 190 200 210 220 230 240 250 260 270 280 290 300 310 320 330 340 350 360 370 380 390 400 410 420 430 440 450 460 470 480 490 500 \n",
      "Complete.\n",
      "0 10 20 30 40 50 60 70 80 90 100 110 120 130 140 150 160 170 180 190 200 210 220 230 240 250 260 270 280 290 300 310 320 330 340 350 360 370 380 390 400 410 420 430 440 450 460 470 480 490 500 \n",
      "Complete.\n",
      "0 10 20 30 40 50 60 70 80 90 100 110 120 130 140 150 160 170 180 190 200 210 220 230 240 250 260 270 280 290 300 310 320 330 340 350 360 370 380 390 400 410 420 430 440 450 460 470 480 490 500 \n",
      "Complete.\n"
     ]
    }
   ],
   "source": [
    "years3 = [2017, 2018, 2019]\n",
    "data3 = []\n",
    "for year in years3: \n",
    "    r = requests.get(url + '/years/' + str(year) + '/fantasy.htm')\n",
    "    soup = BeautifulSoup(r.content, 'html.parser')\n",
    "    parsed_table = soup.find_all('table')[0] \n",
    "    maxp = 500\n",
    "    \n",
    "# first 2 rows are col headers\n",
    "    for i,row in enumerate(parsed_table.find_all('tr')[2:]):\n",
    "        if i % 10 == 0: print(i, end=' ')\n",
    "        if i >= maxp: \n",
    "            print('\\nComplete.')\n",
    "            break\n",
    "\n",
    "        try:\n",
    "            dat = row.find('td', attrs={'data-stat': 'player'})\n",
    "            name = dat.a.get_text()\n",
    "            stub = dat.a.get('href')\n",
    "            stub = stub[:-4] + '/gamelog/' + str(year)\n",
    "            #get stub for player's career gamelog\n",
    "            stub2 = stub[:-4] + '/gamelog/'\n",
    "            tdf_temp = pd.read_html(url+stub2)[0]\n",
    "            #player's first year in league\n",
    "            first_year_playing = int(tdf_temp.iloc[0,0][:4])\n",
    "            pos = row.find('td', attrs={'data-stat': 'fantasy_pos'}).get_text()\n",
    "            # grab this players stats\n",
    "           \n",
    "            tdf = pd.read_html(url + stub)[0]\n",
    "            tdf = tdf[:-1]\n",
    "            tdf['Name'] = name\n",
    "            tdf['Position'] = pos\n",
    "            tdf['Season'] = year\n",
    "            tdf['PlayerYear'] = tdf['Season'].subtract(first_year_playing - 1)\n",
    "            data3.append(tdf)\n",
    "\n",
    "        except:\n",
    "            pass"
   ]
  },
  {
   "cell_type": "code",
   "execution_count": 11,
   "metadata": {},
   "outputs": [],
   "source": [
    "main_player_columns = [('Name', ''), ('Unnamed: 5_level_0', 'Tm'), ('Season', ''), ('Unnamed: 3_level_0', 'Week'), \n",
    "                      ('Passing', 'Yds'), ('Passing', 'TD'), ('Rushing', 'Yds'), ('Rushing', 'TD'), \n",
    "                      ('Receiving', 'Yds'), ('Receiving', 'TD'), ('Scoring', '2PM'), ('Unnamed: 7_level_0', 'Opp'), \n",
    "                      ('Position', ''), ('Fumbles', 'FL'), ('Passing', 'Int'), ('PlayerYear',  '')]\n",
    "\n",
    "for i in data3: \n",
    "    for k in main_player_columns: \n",
    "        if k not in i.columns: \n",
    "            i[k] = 0\n"
   ]
  },
  {
   "cell_type": "code",
   "execution_count": 12,
   "metadata": {},
   "outputs": [],
   "source": [
    "final_df3 = pd.DataFrame()\n",
    "for a in data3: \n",
    "    df_new = pd.DataFrame()\n",
    "    for element in main_player_columns: \n",
    "        if element not in a.columns: \n",
    "                a[element] = 0\n",
    "    df_new = a[[(              'Name',                   ''),\n",
    "               ('Unnamed: 5_level_0',                 'Tm'),\n",
    "               (            'Season',                   ''),\n",
    "               ('Unnamed: 3_level_0',               'Week'), \n",
    "               (           'Passing',                'Yds'),\n",
    "               (           'Passing',                 'TD'), \n",
    "               (           'Rushing',                'Yds'), \n",
    "               (           'Rushing',                 'TD'), \n",
    "               (         'Receiving',                'Yds'), \n",
    "               (         'Receiving',                 'TD'), \n",
    "               (           'Scoring',                '2PM'), \n",
    "               ('Unnamed: 7_level_0',                'Opp'), \n",
    "               (          'Position',                   ''),\n",
    "               (           'Fumbles',                 'FL'), \n",
    "               (           'Passing',                'Int'),\n",
    "               (        'PlayerYear',                   '')\n",
    "               ]]\n",
    "    if final_df3.empty: \n",
    "        final_df3 = df_new\n",
    "    else: \n",
    "        final_df3 = pd.concat([final_df3, df_new])\n",
    "final_df3.to_csv('main_players3.csv', index=False)"
   ]
  }
 ],
 "metadata": {
  "kernelspec": {
   "display_name": "Python 3",
   "language": "python",
   "name": "python3"
  },
  "language_info": {
   "codemirror_mode": {
    "name": "ipython",
    "version": 3
   },
   "file_extension": ".py",
   "mimetype": "text/x-python",
   "name": "python",
   "nbconvert_exporter": "python",
   "pygments_lexer": "ipython3",
   "version": "3.7.4"
  }
 },
 "nbformat": 4,
 "nbformat_minor": 2
}
