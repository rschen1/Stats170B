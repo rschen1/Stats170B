{
 "cells": [
  {
   "cell_type": "code",
   "execution_count": null,
   "metadata": {},
   "outputs": [],
   "source": [
    "import pandas as pd\n",
    "import GetOldTweets3 as got\n",
    "from datetime import datetime\n",
    "import time"
   ]
  },
  {
   "cell_type": "code",
   "execution_count": null,
   "metadata": {},
   "outputs": [],
   "source": [
    "def date_range(start, end, n):\n",
    "    f = '%Y-%m-%d'\n",
    "    start = datetime.strptime(start, f)\n",
    "    end = datetime.strptime(end, f)\n",
    "    d = (end - start)/n\n",
    "    for i in range(n):\n",
    "        yield (start + d*i).strftime(f) \n",
    "    yield end.strftime(f)"
   ]
  },
  {
   "cell_type": "code",
   "execution_count": null,
   "metadata": {},
   "outputs": [],
   "source": [
    "startdate = ''\n",
    "enddate = ''\n",
    "year = ''\n",
    "\n",
    "dates = list(date_range(startdate, enddate, 3))\n",
    "\n",
    "main_players = pd.read_csv('main_players.csv')\n",
    "players = list(main_players[main_players.nfl_year == year]['player_name'].drop_duplicates())\n",
    "\n",
    "colnames = [\"id\", \"username\", \"player\", \"text\", \"date\", \"retweets\", \"favorites\",\n",
    "            \"hashtags\", \"geo\", \"mentions\", \"to\", \"permalink\"]\n",
    "\n",
    "df = pd.DataFrame(columns = colnames)\n",
    "\n",
    "for player in players:\n",
    "    print(\"--- %d. Getting tweets for player %s ---\" % player)\n",
    "    for i in range(len(dates)-1):\n",
    "        tweet_criteria = got.manager.TweetCriteria().setQuerySearch(\n",
    "            \"%s #fantasyfootball) lang:en\" % player)\\\n",
    "            .setSince(dates[i])\\\n",
    "            .setUntil(dates[i+1])\n",
    "        tweets = got.manager.TweetManager.getTweets(tweet_criteria)\n",
    "        results = [[tweet.id, tweet.username, player, tweet.text, tweet.date,\n",
    "                    tweet.retweets, tweet.favorites, tweet.hashtags,\n",
    "                    tweet.geo,tweet.mentions, tweet.to, tweet.permalink]\n",
    "                   for tweet in tweets]\n",
    "        if i == 0 and len(results) <= 10:\n",
    "            break\n",
    "        temp = pd.DataFrame(results, columns = colnames)\n",
    "        df = df.append(temp)\n",
    "        print(\"     added %d tweets\" %len(results))\n",
    "        time.sleep(20)\n",
    "    \n",
    "\n",
    "df.to_csv(\"tweets.csv\")\n"
   ]
  }
 ],
 "metadata": {
  "kernelspec": {
   "display_name": "Python 3",
   "language": "python",
   "name": "python3"
  },
  "language_info": {
   "codemirror_mode": {
    "name": "ipython",
    "version": 3
   },
   "file_extension": ".py",
   "mimetype": "text/x-python",
   "name": "python",
   "nbconvert_exporter": "python",
   "pygments_lexer": "ipython3",
   "version": "3.7.4"
  }
 },
 "nbformat": 4,
 "nbformat_minor": 2
}
